{
 "cells": [
  {
   "cell_type": "code",
   "execution_count": 1,
   "metadata": {
    "_cell_guid": "b1076dfc-b9ad-4769-8c92-a6c4dae69d19",
    "_uuid": "8f2839f25d086af736a60e9eeb907d3b93b6e0e5",
    "execution": {
     "iopub.execute_input": "2020-11-11T13:47:30.619737Z",
     "iopub.status.busy": "2020-11-11T13:47:30.618747Z",
     "iopub.status.idle": "2020-11-11T13:47:30.623947Z",
     "shell.execute_reply": "2020-11-11T13:47:30.623184Z"
    },
    "papermill": {
     "duration": 0.016789,
     "end_time": "2020-11-11T13:47:30.624109",
     "exception": false,
     "start_time": "2020-11-11T13:47:30.607320",
     "status": "completed"
    },
    "tags": []
   },
   "outputs": [
    {
     "name": "stdout",
     "output_type": "stream",
     "text": [
      "/kaggle/input/titanic/gender_submission.csv\n",
      "/kaggle/input/titanic/test.csv\n",
      "/kaggle/input/titanic/train.csv\n"
     ]
    }
   ],
   "source": [
    "# This Python 3 environment comes with many helpful analytics libraries installed\n",
    "# It is defined by the kaggle/python Docker image: https://github.com/kaggle/docker-python\n",
    "# For example, here's several helpful packages to load\n",
    "\n",
    "import numpy as np # linear algebra\n",
    "import pandas as pd # data processing, CSV file I/O (e.g. pd.read_csv)\n",
    "\n",
    "# Input data files are available in the read-only \"../input/\" directory\n",
    "# For example, running this (by clicking run or pressing Shift+Enter) will list all files under the input directory\n",
    "\n",
    "import os\n",
    "for dirname, _, filenames in os.walk('/kaggle/input'):\n",
    "    for filename in filenames:\n",
    "        print(os.path.join(dirname, filename))\n",
    "\n",
    "# You can write up to 20GB to the current directory (/kaggle/working/) that gets preserved as output when you create a version using \"Save & Run All\" \n",
    "# You can also write temporary files to /kaggle/temp/, but they won't be saved outside of the current session"
   ]
  },
  {
   "cell_type": "raw",
   "metadata": {
    "_cell_guid": "79c7e3d0-c299-4dcb-8224-4455121ee9b0",
    "_uuid": "d629ff2d2480ee46fbb7e2d37f6b5fab8052498a",
    "papermill": {
     "duration": 0.004384,
     "end_time": "2020-11-11T13:47:30.636115",
     "exception": false,
     "start_time": "2020-11-11T13:47:30.631731",
     "status": "completed"
    },
    "tags": []
   },
   "source": []
  },
  {
   "cell_type": "code",
   "execution_count": 2,
   "metadata": {
    "execution": {
     "iopub.execute_input": "2020-11-11T13:47:30.654040Z",
     "iopub.status.busy": "2020-11-11T13:47:30.653312Z",
     "iopub.status.idle": "2020-11-11T13:47:30.700132Z",
     "shell.execute_reply": "2020-11-11T13:47:30.699494Z"
    },
    "papermill": {
     "duration": 0.059402,
     "end_time": "2020-11-11T13:47:30.700255",
     "exception": false,
     "start_time": "2020-11-11T13:47:30.640853",
     "status": "completed"
    },
    "tags": []
   },
   "outputs": [],
   "source": [
    "train = pd.read_csv('/kaggle/input/titanic/train.csv')\n",
    "test=pd.read_csv('/kaggle/input/titanic/test.csv')\n",
    "train.head()\n",
    "train.Age = (train['Age']>train.Age.mean()).astype(int)\n",
    "train.isna().sum()\n",
    "test.Age = (test['Age']>test.Age.mean()).astype(int)\n",
    "test.Fare = (test.Fare > test.Fare.mean()).astype(int)\n",
    "train.Fare = (train.Fare > train.Fare.mean()).astype(int)"
   ]
  },
  {
   "cell_type": "code",
   "execution_count": 3,
   "metadata": {
    "execution": {
     "iopub.execute_input": "2020-11-11T13:47:30.724075Z",
     "iopub.status.busy": "2020-11-11T13:47:30.723032Z",
     "iopub.status.idle": "2020-11-11T13:47:30.734415Z",
     "shell.execute_reply": "2020-11-11T13:47:30.733789Z"
    },
    "papermill": {
     "duration": 0.029414,
     "end_time": "2020-11-11T13:47:30.734542",
     "exception": false,
     "start_time": "2020-11-11T13:47:30.705128",
     "status": "completed"
    },
    "tags": []
   },
   "outputs": [
    {
     "data": {
      "text/html": [
       "<div>\n",
       "<style scoped>\n",
       "    .dataframe tbody tr th:only-of-type {\n",
       "        vertical-align: middle;\n",
       "    }\n",
       "\n",
       "    .dataframe tbody tr th {\n",
       "        vertical-align: top;\n",
       "    }\n",
       "\n",
       "    .dataframe thead th {\n",
       "        text-align: right;\n",
       "    }\n",
       "</style>\n",
       "<table border=\"1\" class=\"dataframe\">\n",
       "  <thead>\n",
       "    <tr style=\"text-align: right;\">\n",
       "      <th></th>\n",
       "      <th>PassengerId</th>\n",
       "      <th>Pclass</th>\n",
       "      <th>Name</th>\n",
       "      <th>Sex</th>\n",
       "      <th>Age</th>\n",
       "      <th>SibSp</th>\n",
       "      <th>Parch</th>\n",
       "      <th>Ticket</th>\n",
       "      <th>Fare</th>\n",
       "      <th>Cabin</th>\n",
       "      <th>Embarked</th>\n",
       "    </tr>\n",
       "  </thead>\n",
       "  <tbody>\n",
       "    <tr>\n",
       "      <th>0</th>\n",
       "      <td>892</td>\n",
       "      <td>3</td>\n",
       "      <td>Kelly, Mr. James</td>\n",
       "      <td>male</td>\n",
       "      <td>1</td>\n",
       "      <td>0</td>\n",
       "      <td>0</td>\n",
       "      <td>330911</td>\n",
       "      <td>0</td>\n",
       "      <td>NaN</td>\n",
       "      <td>Q</td>\n",
       "    </tr>\n",
       "    <tr>\n",
       "      <th>1</th>\n",
       "      <td>893</td>\n",
       "      <td>3</td>\n",
       "      <td>Wilkes, Mrs. James (Ellen Needs)</td>\n",
       "      <td>female</td>\n",
       "      <td>1</td>\n",
       "      <td>1</td>\n",
       "      <td>0</td>\n",
       "      <td>363272</td>\n",
       "      <td>0</td>\n",
       "      <td>NaN</td>\n",
       "      <td>S</td>\n",
       "    </tr>\n",
       "    <tr>\n",
       "      <th>2</th>\n",
       "      <td>894</td>\n",
       "      <td>2</td>\n",
       "      <td>Myles, Mr. Thomas Francis</td>\n",
       "      <td>male</td>\n",
       "      <td>1</td>\n",
       "      <td>0</td>\n",
       "      <td>0</td>\n",
       "      <td>240276</td>\n",
       "      <td>0</td>\n",
       "      <td>NaN</td>\n",
       "      <td>Q</td>\n",
       "    </tr>\n",
       "    <tr>\n",
       "      <th>3</th>\n",
       "      <td>895</td>\n",
       "      <td>3</td>\n",
       "      <td>Wirz, Mr. Albert</td>\n",
       "      <td>male</td>\n",
       "      <td>0</td>\n",
       "      <td>0</td>\n",
       "      <td>0</td>\n",
       "      <td>315154</td>\n",
       "      <td>0</td>\n",
       "      <td>NaN</td>\n",
       "      <td>S</td>\n",
       "    </tr>\n",
       "    <tr>\n",
       "      <th>4</th>\n",
       "      <td>896</td>\n",
       "      <td>3</td>\n",
       "      <td>Hirvonen, Mrs. Alexander (Helga E Lindqvist)</td>\n",
       "      <td>female</td>\n",
       "      <td>0</td>\n",
       "      <td>1</td>\n",
       "      <td>1</td>\n",
       "      <td>3101298</td>\n",
       "      <td>0</td>\n",
       "      <td>NaN</td>\n",
       "      <td>S</td>\n",
       "    </tr>\n",
       "  </tbody>\n",
       "</table>\n",
       "</div>"
      ],
      "text/plain": [
       "   PassengerId  Pclass                                          Name     Sex  \\\n",
       "0          892       3                              Kelly, Mr. James    male   \n",
       "1          893       3              Wilkes, Mrs. James (Ellen Needs)  female   \n",
       "2          894       2                     Myles, Mr. Thomas Francis    male   \n",
       "3          895       3                              Wirz, Mr. Albert    male   \n",
       "4          896       3  Hirvonen, Mrs. Alexander (Helga E Lindqvist)  female   \n",
       "\n",
       "   Age  SibSp  Parch   Ticket  Fare Cabin Embarked  \n",
       "0    1      0      0   330911     0   NaN        Q  \n",
       "1    1      1      0   363272     0   NaN        S  \n",
       "2    1      0      0   240276     0   NaN        Q  \n",
       "3    0      0      0   315154     0   NaN        S  \n",
       "4    0      1      1  3101298     0   NaN        S  "
      ]
     },
     "execution_count": 3,
     "metadata": {},
     "output_type": "execute_result"
    }
   ],
   "source": [
    "test.head()"
   ]
  },
  {
   "cell_type": "code",
   "execution_count": 4,
   "metadata": {
    "execution": {
     "iopub.execute_input": "2020-11-11T13:47:30.754555Z",
     "iopub.status.busy": "2020-11-11T13:47:30.753788Z",
     "iopub.status.idle": "2020-11-11T13:47:30.758678Z",
     "shell.execute_reply": "2020-11-11T13:47:30.758070Z"
    },
    "papermill": {
     "duration": 0.018689,
     "end_time": "2020-11-11T13:47:30.758804",
     "exception": false,
     "start_time": "2020-11-11T13:47:30.740115",
     "status": "completed"
    },
    "tags": []
   },
   "outputs": [
    {
     "name": "stdout",
     "output_type": "stream",
     "text": [
      "0.7420382165605095\n",
      "0.18890814558058924\n"
     ]
    }
   ],
   "source": [
    "women = train.loc[train.Sex=='female']['Survived']\n",
    "\n",
    "survived_women = sum(women)/len(women)\n",
    "print(survived_women)\n",
    "men = train.loc[train.Sex=='male']['Survived']\n",
    "\n",
    "survived_men = sum(men)/len(men)\n",
    "print(survived_men)"
   ]
  },
  {
   "cell_type": "code",
   "execution_count": 5,
   "metadata": {
    "execution": {
     "iopub.execute_input": "2020-11-11T13:47:30.779750Z",
     "iopub.status.busy": "2020-11-11T13:47:30.779041Z",
     "iopub.status.idle": "2020-11-11T13:47:32.527321Z",
     "shell.execute_reply": "2020-11-11T13:47:32.526610Z"
    },
    "papermill": {
     "duration": 1.76243,
     "end_time": "2020-11-11T13:47:32.527451",
     "exception": false,
     "start_time": "2020-11-11T13:47:30.765021",
     "status": "completed"
    },
    "tags": []
   },
   "outputs": [
    {
     "name": "stdout",
     "output_type": "stream",
     "text": [
      "     Pclass  SibSp  Parch  Age  Fare  Sex_female  Sex_male\n",
      "0         3      0      0    1     0           0         1\n",
      "1         3      1      0    1     0           1         0\n",
      "2         2      0      0    1     0           0         1\n",
      "3         3      0      0    0     0           0         1\n",
      "4         3      1      1    0     0           1         0\n",
      "..      ...    ...    ...  ...   ...         ...       ...\n",
      "413       3      0      0    0     0           0         1\n",
      "414       1      0      0    1     1           1         0\n",
      "415       3      0      0    1     0           0         1\n",
      "416       3      0      0    0     0           0         1\n",
      "417       3      1      1    0     0           0         1\n",
      "\n",
      "[418 rows x 7 columns]\n",
      "Your submission was successfully saved!\n"
     ]
    }
   ],
   "source": [
    "from sklearn.ensemble import GradientBoostingClassifier,RandomForestClassifier\n",
    "from sklearn.metrics import accuracy_score\n",
    "from sklearn.svm import SVC\n",
    "\n",
    "\n",
    "y = train['Survived']\n",
    "\n",
    "features = ['Pclass','Sex','SibSp','Parch','Age','Fare']\n",
    "X_train = pd.get_dummies(train[features])\n",
    "\n",
    "X_test = pd.get_dummies(test[features])\n",
    "print(X_test)\n",
    "Rmodel = RandomForestClassifier(n_estimators=100,max_depth=10)\n",
    "Rmodel.fit(X_train,y)\n",
    "\n",
    "predictions_Random = Rmodel.predict(X_test)\n",
    "\n",
    "\n",
    "\n",
    "# accuracy_score(predictions_Random,y)\n",
    "\n",
    "\n",
    "output = pd.DataFrame({\n",
    "    'PassengerId':test.PassengerId,\n",
    "    'Survived':predictions_Random\n",
    "})\n",
    "output.to_csv('my_submission.csv',index=False)\n",
    "print('Your submission was successfully saved!')"
   ]
  }
 ],
 "metadata": {
  "kernelspec": {
   "display_name": "Python 3",
   "language": "python",
   "name": "python3"
  },
  "language_info": {
   "codemirror_mode": {
    "name": "ipython",
    "version": 3
   },
   "file_extension": ".py",
   "mimetype": "text/x-python",
   "name": "python",
   "nbconvert_exporter": "python",
   "pygments_lexer": "ipython3",
   "version": "3.7.6"
  },
  "papermill": {
   "duration": 6.417711,
   "end_time": "2020-11-11T13:47:32.642088",
   "environment_variables": {},
   "exception": null,
   "input_path": "__notebook__.ipynb",
   "output_path": "__notebook__.ipynb",
   "parameters": {},
   "start_time": "2020-11-11T13:47:26.224377",
   "version": "2.1.0"
  }
 },
 "nbformat": 4,
 "nbformat_minor": 4
}
